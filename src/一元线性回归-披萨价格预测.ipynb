{
 "cells": [
  {
   "cell_type": "code",
   "execution_count": 1,
   "metadata": {
    "pycharm": {
     "is_executing": true
    }
   },
   "outputs": [],
   "source": [
    "import numpy as np\n",
    "import matplotlib.pyplot as plt\n",
    "import matplotlib as mpl\n",
    "from sklearn.linear_model import LinearRegression\n",
    "\n",
    "mpl.rcParams[\"font.sans-serif\"] = [\"KaiTi\"]\n",
    "mpl.rcParams[\"axes.unicode_minus\"] = False"
   ]
  },
  {
   "cell_type": "code",
   "execution_count": 2,
   "metadata": {},
   "outputs": [
    {
     "data": {
      "image/png": "[encoded data removed]",
      "text/plain": [
       "<Figure size 432x288 with 1 Axes>"
      ]
     },
     "metadata": {
      "needs_background": "light"
     },
     "output_type": "display_data"
    }
   ],
   "source": [
    "x = np.array([[6], [8], [10], [14], [18]]).reshape(-1, 1)\n",
    "y = np.array([7, 9, 13, 17.5, 18])\n",
    "\n",
    "plt.figure()\n",
    "plt.title(\"披萨价格直径散点图\")\n",
    "plt.xlabel(\"直径（单位：英寸）\")\n",
    "plt.ylabel(\"价格（单位：美元）\")\n",
    "plt.plot(x, y, 'k.')\n",
    "plt.axis([0, 25, 0, 25])\n",
    "plt.grid(True)\n",
    "plt.show()"
   ]
  },
  {
   "cell_type": "code",
   "execution_count": 3,
   "metadata": {
    "pycharm": {
     "name": "#%%\n"
    }
   },
   "outputs": [
    {
     "name": "stdout",
     "output_type": "stream",
     "text": [
      "12英寸的披萨的价格估测为：$13.68\n"
     ]
    }
   ],
   "source": [
    "model = LinearRegression()\n",
    "model.fit(x, y)\n",
    "\n",
    "test_pizza = np.array([[12]])\n",
    "predicted_price = model.predict(test_pizza)[0]\n",
    "\n",
    "print(\"12英寸的披萨的价格估测为：$%.2f\" %predicted_price)\n"
   ]
  },
  {
   "cell_type": "code",
   "execution_count": 4,
   "metadata": {},
   "outputs": [
    {
     "name": "stdout",
     "output_type": "stream",
     "text": [
      "11.2\n",
      "23.2\n",
      "23.2\n",
      "22.65\n",
      "22.650000000000002\n"
     ]
    }
   ],
   "source": [
    "# 使用OLS(最小普通二乘法)求解\n",
    "x = np.array([[6], [8], [10], [14], [18]])\n",
    "x_bar = x.mean()\n",
    "print(x_bar)\n",
    "\n",
    "# 人工贝塞尔校正\n",
    "variance = ((x-x_bar)**2).sum()/(x.shape[0]-1)\n",
    "print(variance)\n",
    "\n",
    "# 直接使用numpy完成\n",
    "print(np.var(x, ddof=1))\n",
    "\n",
    "# 求协方差\n",
    "y_bar = y.mean()\n",
    "covariance = np.multiply((x-x_bar).transpose(), y-y_bar).sum()/(x.shape[0]-1)\n",
    "print(covariance)\n",
    "print(np.cov(x.transpose(), y)[0][1])\n"
   ]
  },
  {
   "cell_type": "code",
   "execution_count": 5,
   "metadata": {},
   "outputs": [
    {
     "name": "stdout",
     "output_type": "stream",
     "text": [
      "0.6620052929422553\n"
     ]
    }
   ],
   "source": [
    "# 简单评估\n",
    "x_train = np.array([6, 8, 10, 14, 18]).reshape(-1, 1)\n",
    "y_train = [7, 9, 13, 17.5, 18]\n",
    "\n",
    "x_test = np.array([8, 9, 11, 16, 12]).reshape(-1, 1)\n",
    "y_test = [11, 8.5, 15, 18, 11]\n",
    "\n",
    "model = LinearRegression()\n",
    "model.fit(x_train, y_train)\n",
    "r_squard = model.score(x_test, y_test)\n",
    "print(r_squard)"
   ]
  },
  {
   "cell_type": "code",
   "execution_count": null,
   "metadata": {},
   "outputs": [],
   "source": []
  }
 ],
 "metadata": {
  "kernelspec": {
   "display_name": "Python 3",
   "language": "python",
   "name": "python3"
  },
  "language_info": {
   "codemirror_mode": {
    "name": "ipython",
    "version": 3
   },
   "file_extension": ".py",
   "mimetype": "text/x-python",
   "name": "python",
   "nbconvert_exporter": "python",
   "pygments_lexer": "ipython3",
   "version": "3.7.6"
  },
  "pycharm": {
   "stem_cell": {
    "cell_type": "raw",
    "metadata": {
     "collapsed": false
    },
    "source": []
   }
  }
 },
 "nbformat": 4,
 "nbformat_minor": 4
}
