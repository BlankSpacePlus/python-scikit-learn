{
 "cells": [
  {
   "cell_type": "code",
   "execution_count": 1,
   "metadata": {},
   "outputs": [],
   "source": [
    "import numpy as np\n",
    "import pandas as pd\n",
    "import matplotlib.pyplot as plt\n",
    "from sklearn import metrics\n",
    "from sklearn.metrics import r2_score\n",
    "from sklearn.model_selection import train_test_split"
   ]
  },
  {
   "cell_type": "code",
   "execution_count": 2,
   "metadata": {},
   "outputs": [
    {
     "data": {
      "text/html": [
       "<div>\n",
       "<style scoped>\n",
       "    .dataframe tbody tr th:only-of-type {\n",
       "        vertical-align: middle;\n",
       "    }\n",
       "\n",
       "    .dataframe tbody tr th {\n",
       "        vertical-align: top;\n",
       "    }\n",
       "\n",
       "    .dataframe thead th {\n",
       "        text-align: right;\n",
       "    }\n",
       "</style>\n",
       "<table border=\"1\" class=\"dataframe\">\n",
       "  <thead>\n",
       "    <tr style=\"text-align: right;\">\n",
       "      <th></th>\n",
       "      <th>filmnum</th>\n",
       "      <th>filmsize</th>\n",
       "      <th>ratio</th>\n",
       "      <th>quality</th>\n",
       "    </tr>\n",
       "  </thead>\n",
       "  <tbody>\n",
       "    <tr>\n",
       "      <th>0</th>\n",
       "      <td>45</td>\n",
       "      <td>106</td>\n",
       "      <td>17</td>\n",
       "      <td>6</td>\n",
       "    </tr>\n",
       "    <tr>\n",
       "      <th>1</th>\n",
       "      <td>44</td>\n",
       "      <td>99</td>\n",
       "      <td>15</td>\n",
       "      <td>18</td>\n",
       "    </tr>\n",
       "    <tr>\n",
       "      <th>2</th>\n",
       "      <td>61</td>\n",
       "      <td>149</td>\n",
       "      <td>27</td>\n",
       "      <td>10</td>\n",
       "    </tr>\n",
       "    <tr>\n",
       "      <th>3</th>\n",
       "      <td>41</td>\n",
       "      <td>97</td>\n",
       "      <td>27</td>\n",
       "      <td>16</td>\n",
       "    </tr>\n",
       "    <tr>\n",
       "      <th>4</th>\n",
       "      <td>54</td>\n",
       "      <td>148</td>\n",
       "      <td>30</td>\n",
       "      <td>8</td>\n",
       "    </tr>\n",
       "  </tbody>\n",
       "</table>\n",
       "</div>"
      ],
      "text/plain": [
       "   filmnum  filmsize  ratio  quality\n",
       "0       45       106     17        6\n",
       "1       44        99     15       18\n",
       "2       61       149     27       10\n",
       "3       41        97     27       16\n",
       "4       54       148     30        8"
      ]
     },
     "execution_count": 2,
     "metadata": {},
     "output_type": "execute_result"
    }
   ],
   "source": [
    "df = pd.read_csv('../data/film.csv') #读取csv数据\n",
    "df.head()  #展示前五行数据"
   ]
  },
  {
   "cell_type": "code",
   "execution_count": 3,
   "metadata": {},
   "outputs": [
    {
     "data": {
      "text/html": [
       "<div>\n",
       "<style scoped>\n",
       "    .dataframe tbody tr th:only-of-type {\n",
       "        vertical-align: middle;\n",
       "    }\n",
       "\n",
       "    .dataframe tbody tr th {\n",
       "        vertical-align: top;\n",
       "    }\n",
       "\n",
       "    .dataframe thead th {\n",
       "        text-align: right;\n",
       "    }\n",
       "</style>\n",
       "<table border=\"1\" class=\"dataframe\">\n",
       "  <thead>\n",
       "    <tr style=\"text-align: right;\">\n",
       "      <th></th>\n",
       "      <th>filmnum</th>\n",
       "      <th>Ones</th>\n",
       "      <th>filmsize</th>\n",
       "      <th>ratio</th>\n",
       "      <th>quality</th>\n",
       "    </tr>\n",
       "  </thead>\n",
       "  <tbody>\n",
       "    <tr>\n",
       "      <th>0</th>\n",
       "      <td>45</td>\n",
       "      <td>1</td>\n",
       "      <td>106</td>\n",
       "      <td>17</td>\n",
       "      <td>6</td>\n",
       "    </tr>\n",
       "    <tr>\n",
       "      <th>1</th>\n",
       "      <td>44</td>\n",
       "      <td>1</td>\n",
       "      <td>99</td>\n",
       "      <td>15</td>\n",
       "      <td>18</td>\n",
       "    </tr>\n",
       "    <tr>\n",
       "      <th>2</th>\n",
       "      <td>61</td>\n",
       "      <td>1</td>\n",
       "      <td>149</td>\n",
       "      <td>27</td>\n",
       "      <td>10</td>\n",
       "    </tr>\n",
       "    <tr>\n",
       "      <th>3</th>\n",
       "      <td>41</td>\n",
       "      <td>1</td>\n",
       "      <td>97</td>\n",
       "      <td>27</td>\n",
       "      <td>16</td>\n",
       "    </tr>\n",
       "    <tr>\n",
       "      <th>4</th>\n",
       "      <td>54</td>\n",
       "      <td>1</td>\n",
       "      <td>148</td>\n",
       "      <td>30</td>\n",
       "      <td>8</td>\n",
       "    </tr>\n",
       "  </tbody>\n",
       "</table>\n",
       "</div>"
      ],
      "text/plain": [
       "   filmnum  Ones  filmsize  ratio  quality\n",
       "0       45     1       106     17        6\n",
       "1       44     1        99     15       18\n",
       "2       61     1       149     27       10\n",
       "3       41     1        97     27       16\n",
       "4       54     1       148     30        8"
      ]
     },
     "execution_count": 3,
     "metadata": {},
     "output_type": "execute_result"
    }
   ],
   "source": [
    "df.insert(1, 'Ones', 1) #在df第1-2列之间插入全是1的一列数\n",
    "df.head()"
   ]
  },
  {
   "cell_type": "code",
   "execution_count": 4,
   "metadata": {},
   "outputs": [],
   "source": [
    "cols = df.shape[1] #计算df的列数\n",
    "x = df.iloc[:,1:cols]  #取数据df的第2列之后的数据作为X变量\n",
    "y = df.iloc[:,0:1]  #取数据df的第一列为y变量"
   ]
  },
  {
   "cell_type": "code",
   "execution_count": 5,
   "metadata": {},
   "outputs": [
    {
     "data": {
      "text/html": [
       "<div>\n",
       "<style scoped>\n",
       "    .dataframe tbody tr th:only-of-type {\n",
       "        vertical-align: middle;\n",
       "    }\n",
       "\n",
       "    .dataframe tbody tr th {\n",
       "        vertical-align: top;\n",
       "    }\n",
       "\n",
       "    .dataframe thead th {\n",
       "        text-align: right;\n",
       "    }\n",
       "</style>\n",
       "<table border=\"1\" class=\"dataframe\">\n",
       "  <thead>\n",
       "    <tr style=\"text-align: right;\">\n",
       "      <th></th>\n",
       "      <th>Ones</th>\n",
       "      <th>filmsize</th>\n",
       "      <th>ratio</th>\n",
       "      <th>quality</th>\n",
       "    </tr>\n",
       "  </thead>\n",
       "  <tbody>\n",
       "    <tr>\n",
       "      <th>0</th>\n",
       "      <td>1</td>\n",
       "      <td>106</td>\n",
       "      <td>17</td>\n",
       "      <td>6</td>\n",
       "    </tr>\n",
       "    <tr>\n",
       "      <th>1</th>\n",
       "      <td>1</td>\n",
       "      <td>99</td>\n",
       "      <td>15</td>\n",
       "      <td>18</td>\n",
       "    </tr>\n",
       "    <tr>\n",
       "      <th>2</th>\n",
       "      <td>1</td>\n",
       "      <td>149</td>\n",
       "      <td>27</td>\n",
       "      <td>10</td>\n",
       "    </tr>\n",
       "    <tr>\n",
       "      <th>3</th>\n",
       "      <td>1</td>\n",
       "      <td>97</td>\n",
       "      <td>27</td>\n",
       "      <td>16</td>\n",
       "    </tr>\n",
       "    <tr>\n",
       "      <th>4</th>\n",
       "      <td>1</td>\n",
       "      <td>148</td>\n",
       "      <td>30</td>\n",
       "      <td>8</td>\n",
       "    </tr>\n",
       "    <tr>\n",
       "      <th>...</th>\n",
       "      <td>...</td>\n",
       "      <td>...</td>\n",
       "      <td>...</td>\n",
       "      <td>...</td>\n",
       "    </tr>\n",
       "    <tr>\n",
       "      <th>121</th>\n",
       "      <td>1</td>\n",
       "      <td>115</td>\n",
       "      <td>23</td>\n",
       "      <td>2</td>\n",
       "    </tr>\n",
       "    <tr>\n",
       "      <th>122</th>\n",
       "      <td>1</td>\n",
       "      <td>78</td>\n",
       "      <td>20</td>\n",
       "      <td>4</td>\n",
       "    </tr>\n",
       "    <tr>\n",
       "      <th>123</th>\n",
       "      <td>1</td>\n",
       "      <td>165</td>\n",
       "      <td>48</td>\n",
       "      <td>8</td>\n",
       "    </tr>\n",
       "    <tr>\n",
       "      <th>124</th>\n",
       "      <td>1</td>\n",
       "      <td>84</td>\n",
       "      <td>16</td>\n",
       "      <td>3</td>\n",
       "    </tr>\n",
       "    <tr>\n",
       "      <th>125</th>\n",
       "      <td>1</td>\n",
       "      <td>102</td>\n",
       "      <td>24</td>\n",
       "      <td>1</td>\n",
       "    </tr>\n",
       "  </tbody>\n",
       "</table>\n",
       "<p>126 rows × 4 columns</p>\n",
       "</div>"
      ],
      "text/plain": [
       "     Ones  filmsize  ratio  quality\n",
       "0       1       106     17        6\n",
       "1       1        99     15       18\n",
       "2       1       149     27       10\n",
       "3       1        97     27       16\n",
       "4       1       148     30        8\n",
       "..    ...       ...    ...      ...\n",
       "121     1       115     23        2\n",
       "122     1        78     20        4\n",
       "123     1       165     48        8\n",
       "124     1        84     16        3\n",
       "125     1       102     24        1\n",
       "\n",
       "[126 rows x 4 columns]"
      ]
     },
     "execution_count": 5,
     "metadata": {},
     "output_type": "execute_result"
    }
   ],
   "source": [
    "x"
   ]
  },
  {
   "cell_type": "code",
   "execution_count": 6,
   "metadata": {},
   "outputs": [
    {
     "data": {
      "text/html": [
       "<div>\n",
       "<style scoped>\n",
       "    .dataframe tbody tr th:only-of-type {\n",
       "        vertical-align: middle;\n",
       "    }\n",
       "\n",
       "    .dataframe tbody tr th {\n",
       "        vertical-align: top;\n",
       "    }\n",
       "\n",
       "    .dataframe thead th {\n",
       "        text-align: right;\n",
       "    }\n",
       "</style>\n",
       "<table border=\"1\" class=\"dataframe\">\n",
       "  <thead>\n",
       "    <tr style=\"text-align: right;\">\n",
       "      <th></th>\n",
       "      <th>filmnum</th>\n",
       "    </tr>\n",
       "  </thead>\n",
       "  <tbody>\n",
       "    <tr>\n",
       "      <th>0</th>\n",
       "      <td>45</td>\n",
       "    </tr>\n",
       "    <tr>\n",
       "      <th>1</th>\n",
       "      <td>44</td>\n",
       "    </tr>\n",
       "    <tr>\n",
       "      <th>2</th>\n",
       "      <td>61</td>\n",
       "    </tr>\n",
       "    <tr>\n",
       "      <th>3</th>\n",
       "      <td>41</td>\n",
       "    </tr>\n",
       "    <tr>\n",
       "      <th>4</th>\n",
       "      <td>54</td>\n",
       "    </tr>\n",
       "    <tr>\n",
       "      <th>...</th>\n",
       "      <td>...</td>\n",
       "    </tr>\n",
       "    <tr>\n",
       "      <th>121</th>\n",
       "      <td>49</td>\n",
       "    </tr>\n",
       "    <tr>\n",
       "      <th>122</th>\n",
       "      <td>37</td>\n",
       "    </tr>\n",
       "    <tr>\n",
       "      <th>123</th>\n",
       "      <td>64</td>\n",
       "    </tr>\n",
       "    <tr>\n",
       "      <th>124</th>\n",
       "      <td>41</td>\n",
       "    </tr>\n",
       "    <tr>\n",
       "      <th>125</th>\n",
       "      <td>40</td>\n",
       "    </tr>\n",
       "  </tbody>\n",
       "</table>\n",
       "<p>126 rows × 1 columns</p>\n",
       "</div>"
      ],
      "text/plain": [
       "     filmnum\n",
       "0         45\n",
       "1         44\n",
       "2         61\n",
       "3         41\n",
       "4         54\n",
       "..       ...\n",
       "121       49\n",
       "122       37\n",
       "123       64\n",
       "124       41\n",
       "125       40\n",
       "\n",
       "[126 rows x 1 columns]"
      ]
     },
     "execution_count": 6,
     "metadata": {},
     "output_type": "execute_result"
    }
   ],
   "source": [
    "y"
   ]
  },
  {
   "cell_type": "code",
   "execution_count": 7,
   "metadata": {},
   "outputs": [],
   "source": [
    "# 把x、y转化为数组形式，以便于计算\n",
    "x = np.array(x.values)  \n",
    "y = np.array(y.values) \n",
    "#以25%的数据构建测试样本，剩余作为训练样本\n",
    "x_train,x_test,y_train,y_test=train_test_split(x,y,test_size=0.25,random_state =1)"
   ]
  },
  {
   "cell_type": "code",
   "execution_count": 8,
   "metadata": {},
   "outputs": [
    {
     "data": {
      "text/plain": [
       "((94, 4), (32, 4), (94, 1), (32, 1))"
      ]
     },
     "execution_count": 8,
     "metadata": {},
     "output_type": "execute_result"
    }
   ],
   "source": [
    "x_train.shape,x_test.shape,y_train.shape,y_test.shape"
   ]
  },
  {
   "cell_type": "code",
   "execution_count": 9,
   "metadata": {},
   "outputs": [
    {
     "data": {
      "text/plain": [
       "array([[38],\n",
       "       [30],\n",
       "       [59],\n",
       "       [28],\n",
       "       [62],\n",
       "       [36],\n",
       "       [57],\n",
       "       [14],\n",
       "       [36],\n",
       "       [44],\n",
       "       [35],\n",
       "       [27],\n",
       "       [63],\n",
       "       [63],\n",
       "       [36],\n",
       "       [40],\n",
       "       [55],\n",
       "       [36],\n",
       "       [48],\n",
       "       [44],\n",
       "       [48],\n",
       "       [24],\n",
       "       [42],\n",
       "       [54],\n",
       "       [34],\n",
       "       [45],\n",
       "       [51],\n",
       "       [38],\n",
       "       [46],\n",
       "       [63],\n",
       "       [55],\n",
       "       [54],\n",
       "       [58],\n",
       "       [35],\n",
       "       [42],\n",
       "       [39],\n",
       "       [34],\n",
       "       [29],\n",
       "       [49],\n",
       "       [50],\n",
       "       [48],\n",
       "       [41],\n",
       "       [40],\n",
       "       [28],\n",
       "       [45],\n",
       "       [41],\n",
       "       [68],\n",
       "       [62],\n",
       "       [37],\n",
       "       [47],\n",
       "       [42],\n",
       "       [68],\n",
       "       [65],\n",
       "       [32],\n",
       "       [45],\n",
       "       [58],\n",
       "       [72],\n",
       "       [61],\n",
       "       [82],\n",
       "       [58],\n",
       "       [39],\n",
       "       [49],\n",
       "       [65],\n",
       "       [63],\n",
       "       [39],\n",
       "       [35],\n",
       "       [56],\n",
       "       [51],\n",
       "       [81],\n",
       "       [76],\n",
       "       [49],\n",
       "       [50],\n",
       "       [44],\n",
       "       [51],\n",
       "       [41],\n",
       "       [58],\n",
       "       [38],\n",
       "       [44],\n",
       "       [39],\n",
       "       [59],\n",
       "       [55],\n",
       "       [42],\n",
       "       [71],\n",
       "       [44],\n",
       "       [58],\n",
       "       [50],\n",
       "       [21],\n",
       "       [68],\n",
       "       [47],\n",
       "       [35],\n",
       "       [27],\n",
       "       [49],\n",
       "       [55],\n",
       "       [41]], dtype=int64)"
      ]
     },
     "execution_count": 9,
     "metadata": {},
     "output_type": "execute_result"
    }
   ],
   "source": [
    "y_train"
   ]
  },
  {
   "cell_type": "code",
   "execution_count": 10,
   "metadata": {},
   "outputs": [],
   "source": [
    "def computeCost(X, y, theta): \n",
    "    inner = np.power(((X * theta.T) - y), 2)\n",
    "    return  np.sum(inner) / (2 * len(X))"
   ]
  },
  {
   "cell_type": "code",
   "execution_count": 11,
   "metadata": {},
   "outputs": [],
   "source": [
    "#梯度下降算法函数,X/y是输入变量，theta是参数，alpha是学习率，iters梯度下降迭代次数\n",
    "def gradientDescent(X, y, theta, alpha, iters):  \n",
    "    temp = np.matrix(np.zeros(theta.shape)) #构建零值矩阵\n",
    "    parameters = int(theta.ravel().shape[1]) #计算需要求解的参数个数\n",
    "    cost = np.zeros(iters) #构建iters个0的数组\n",
    "    for i in range(iters):\n",
    "        error = (X * theta.T)-y #计算hθ(x)-y\n",
    "        for j in range(parameters): #对于theta中的每一个元素依次计算\n",
    "            term = np.multiply(error, X[:,j]) #计算两矩阵相乘(hθ(x)-y)x\n",
    "            temp[0,j] = theta[0,j] - ((alpha / len(X)) * np.sum(term)) #更新法则\n",
    "        theta = temp\n",
    "        cost[i] = computeCost(X, y, theta) #基于求出来的theta求解成本函数\n",
    "    return theta, cost"
   ]
  },
  {
   "cell_type": "code",
   "execution_count": 12,
   "metadata": {},
   "outputs": [
    {
     "data": {
      "text/plain": [
       "matrix([[0.00354631, 0.40050803, 0.08201549, 0.0328456 ]])"
      ]
     },
     "execution_count": 12,
     "metadata": {},
     "output_type": "execute_result"
    }
   ],
   "source": [
    "alpha = 0.000001 \n",
    "iters = 100\n",
    "theta = np.matrix(np.array([0,0,0,0]))\n",
    "# 采用gradientDescent（）函数来优化求解\n",
    "g, cost = gradientDescent(x, y, theta, alpha, iters)\n",
    "g"
   ]
  },
  {
   "cell_type": "code",
   "execution_count": 13,
   "metadata": {},
   "outputs": [
    {
     "data": {
      "text/plain": [
       "matrix([[18.43929948],\n",
       "        [79.2727817 ],\n",
       "        [66.49297305],\n",
       "        [51.46432449],\n",
       "        [51.10341694],\n",
       "        [45.4991191 ],\n",
       "        [59.41836324],\n",
       "        [35.05700515],\n",
       "        [61.37454802],\n",
       "        [15.71514127],\n",
       "        [26.7544428 ],\n",
       "        [39.55437536],\n",
       "        [40.06974448],\n",
       "        [38.2120965 ],\n",
       "        [21.66965144],\n",
       "        [52.52489677],\n",
       "        [37.80182204],\n",
       "        [38.5371469 ],\n",
       "        [70.28687892],\n",
       "        [62.22211644],\n",
       "        [54.42535379],\n",
       "        [40.88407327],\n",
       "        [26.74507041],\n",
       "        [49.10388836],\n",
       "        [43.91079377],\n",
       "        [48.3191966 ],\n",
       "        [32.92347666],\n",
       "        [72.11359518],\n",
       "        [55.39695868],\n",
       "        [47.73892436],\n",
       "        [47.30478266],\n",
       "        [75.75644507]])"
      ]
     },
     "execution_count": 13,
     "metadata": {},
     "output_type": "execute_result"
    }
   ],
   "source": [
    "y_hat = x_test * g.T  #求出预测集y_test的预测值\n",
    "y_hat"
   ]
  },
  {
   "cell_type": "code",
   "execution_count": 14,
   "metadata": {},
   "outputs": [
    {
     "data": {
      "image/png": "[encoded data removed]",
      "text/plain": [
       "<Figure size 720x432 with 1 Axes>"
      ]
     },
     "metadata": {
      "needs_background": "light"
     },
     "output_type": "display_data"
    }
   ],
   "source": [
    "plt.figure(figsize=(10,6))  #设置图片尺寸\n",
    "t = np.arange(len(x_test))  #创建t变量\n",
    "#绘制y_test曲线\n",
    "plt.plot(t, y_test, 'r', linewidth=2, label='y_test') \n",
    "#绘制y_test曲线\n",
    "plt.plot(t, y_hat, 'g', linewidth=2, label='y_hat') \n",
    "plt.legend() #设置图例\n",
    "plt.show()"
   ]
  },
  {
   "cell_type": "code",
   "execution_count": 15,
   "metadata": {},
   "outputs": [
    {
     "name": "stdout",
     "output_type": "stream",
     "text": [
      "r2_score: 0.8072533281432706\n",
      "MAE: 5.262018943705062\n",
      "MSE: 52.2456418234778\n",
      "RMSE: 7.22811467974034\n"
     ]
    }
   ],
   "source": [
    "# 拟合优度R2的输出方法二\n",
    "print(\"r2_score:\",r2_score(y_test, y_hat)) \n",
    "# 用scikit-learn计算MAE\n",
    "print(\"MAE:\", metrics.mean_absolute_error(y_test, y_hat))\n",
    "# 用scikit-learn计算MSE\n",
    "print(\"MSE:\", metrics.mean_squared_error(y_test, y_hat))\n",
    "# # 用scikit-learn计算RMSE\n",
    "print(\"RMSE:\", np.sqrt(metrics.mean_squared_error(y_test, y_hat)))"
   ]
  },
  {
   "cell_type": "code",
   "execution_count": null,
   "metadata": {},
   "outputs": [],
   "source": []
  }
 ],
 "metadata": {
  "kernelspec": {
   "display_name": "Python 3",
   "language": "python",
   "name": "python3"
  },
  "language_info": {
   "codemirror_mode": {
    "name": "ipython",
    "version": 3
   },
   "file_extension": ".py",
   "mimetype": "text/x-python",
   "name": "python",
   "nbconvert_exporter": "python",
   "pygments_lexer": "ipython3",
   "version": "3.7.6"
  }
 },
 "nbformat": 4,
 "nbformat_minor": 4
}
