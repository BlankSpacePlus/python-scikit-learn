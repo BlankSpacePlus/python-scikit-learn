{
 "cells": [
  {
   "cell_type": "code",
   "execution_count": 1,
   "metadata": {},
   "outputs": [],
   "source": [
    "import numpy as np\n",
    "import pandas as pd\n",
    "import matplotlib.pyplot as plt\n",
    "from sklearn import metrics\n",
    "from sklearn.metrics import r2_score\n",
    "from sklearn.model_selection import train_test_split\n",
    "from sklearn.linear_model import Lasso"
   ]
  },
  {
   "cell_type": "code",
   "execution_count": 2,
   "metadata": {},
   "outputs": [
    {
     "data": {
      "text/html": [
       "<div>\n",
       "<style scoped>\n",
       "    .dataframe tbody tr th:only-of-type {\n",
       "        vertical-align: middle;\n",
       "    }\n",
       "\n",
       "    .dataframe tbody tr th {\n",
       "        vertical-align: top;\n",
       "    }\n",
       "\n",
       "    .dataframe thead th {\n",
       "        text-align: right;\n",
       "    }\n",
       "</style>\n",
       "<table border=\"1\" class=\"dataframe\">\n",
       "  <thead>\n",
       "    <tr style=\"text-align: right;\">\n",
       "      <th></th>\n",
       "      <th>filmnum</th>\n",
       "      <th>filmsize</th>\n",
       "      <th>ratio</th>\n",
       "      <th>quality</th>\n",
       "    </tr>\n",
       "  </thead>\n",
       "  <tbody>\n",
       "    <tr>\n",
       "      <th>0</th>\n",
       "      <td>45</td>\n",
       "      <td>106</td>\n",
       "      <td>17</td>\n",
       "      <td>6</td>\n",
       "    </tr>\n",
       "    <tr>\n",
       "      <th>1</th>\n",
       "      <td>44</td>\n",
       "      <td>99</td>\n",
       "      <td>15</td>\n",
       "      <td>18</td>\n",
       "    </tr>\n",
       "    <tr>\n",
       "      <th>2</th>\n",
       "      <td>61</td>\n",
       "      <td>149</td>\n",
       "      <td>27</td>\n",
       "      <td>10</td>\n",
       "    </tr>\n",
       "    <tr>\n",
       "      <th>3</th>\n",
       "      <td>41</td>\n",
       "      <td>97</td>\n",
       "      <td>27</td>\n",
       "      <td>16</td>\n",
       "    </tr>\n",
       "    <tr>\n",
       "      <th>4</th>\n",
       "      <td>54</td>\n",
       "      <td>148</td>\n",
       "      <td>30</td>\n",
       "      <td>8</td>\n",
       "    </tr>\n",
       "  </tbody>\n",
       "</table>\n",
       "</div>"
      ],
      "text/plain": [
       "   filmnum  filmsize  ratio  quality\n",
       "0       45       106     17        6\n",
       "1       44        99     15       18\n",
       "2       61       149     27       10\n",
       "3       41        97     27       16\n",
       "4       54       148     30        8"
      ]
     },
     "execution_count": 2,
     "metadata": {},
     "output_type": "execute_result"
    }
   ],
   "source": [
    "df = pd.read_csv('../data/film.csv') #读取csv数据\n",
    "df.head()  #展示前五行数据"
   ]
  },
  {
   "cell_type": "code",
   "execution_count": 4,
   "metadata": {},
   "outputs": [],
   "source": [
    "x = df.iloc[:,1:4]  #选取data中的RM变量\n",
    "y =df.filmnum  #设定target为y"
   ]
  },
  {
   "cell_type": "code",
   "execution_count": 5,
   "metadata": {},
   "outputs": [],
   "source": [
    "# 把x、y转化为数组形式，以便于计算\n",
    "x = np.array(x.values)  \n",
    "y = np.array(y.values) \n",
    "#以25%的数据构建测试样本，剩余作为训练样本\n",
    "x_train,x_test,y_train,y_test=train_test_split(x,y,test_size=0.25,random_state =1)"
   ]
  },
  {
   "cell_type": "code",
   "execution_count": 6,
   "metadata": {},
   "outputs": [
    {
     "data": {
      "text/plain": [
       "((94, 3), (32, 3), (94,), (32,))"
      ]
     },
     "execution_count": 6,
     "metadata": {},
     "output_type": "execute_result"
    }
   ],
   "source": [
    "x_train.shape,x_test.shape,y_train.shape,y_test.shape"
   ]
  },
  {
   "cell_type": "code",
   "execution_count": 7,
   "metadata": {},
   "outputs": [
    {
     "data": {
      "text/plain": [
       "Lasso(alpha=0.1, copy_X=True, fit_intercept=True, max_iter=1000,\n",
       "      normalize=False, positive=False, precompute=False, random_state=None,\n",
       "      selection='cyclic', tol=0.0001, warm_start=False)"
      ]
     },
     "execution_count": 7,
     "metadata": {},
     "output_type": "execute_result"
    }
   ],
   "source": [
    "lasso= Lasso(alpha=0.1)  # 设置lambda值\n",
    "lasso.fit(x_train,y_train) #使用训练数据进行参数求解"
   ]
  },
  {
   "cell_type": "code",
   "execution_count": 9,
   "metadata": {},
   "outputs": [
    {
     "name": "stdout",
     "output_type": "stream",
     "text": [
      "求解截距项为： 4.358584829813829\n",
      "求解系数为： [ 0.36999035 -0.03494547  0.22750781]\n"
     ]
    }
   ],
   "source": [
    "print('求解截距项为：',lasso.intercept_)\n",
    "print('求解系数为：',lasso.coef_)"
   ]
  },
  {
   "cell_type": "code",
   "execution_count": 11,
   "metadata": {},
   "outputs": [
    {
     "data": {
      "text/plain": [
       "array([20.233949  , 74.32855715, 66.94661945, 50.62126153, 50.5335356 ,\n",
       "       44.75419636, 57.02133523, 35.56117031, 58.53426597])"
      ]
     },
     "execution_count": 11,
     "metadata": {},
     "output_type": "execute_result"
    }
   ],
   "source": [
    "y_hat_lasso = lasso.predict(x_test) #对测试集的预测\n",
    "y_hat_lasso[0:9]  #打印前10个预测值"
   ]
  },
  {
   "cell_type": "code",
   "execution_count": 12,
   "metadata": {},
   "outputs": [
    {
     "data": {
      "image/png": "[encoded data removed]",
      "text/plain": [
       "<Figure size 720x432 with 1 Axes>"
      ]
     },
     "metadata": {
      "needs_background": "light"
     },
     "output_type": "display_data"
    }
   ],
   "source": [
    "plt.figure(figsize=(10,6))  #设置图片尺寸\n",
    "t = np.arange(len(x_test))  #创建t变量\n",
    "#绘制y_test曲线\n",
    "plt.plot(t, y_test, 'r', linewidth=2, label='y_test') \n",
    "#绘制y_test曲线\n",
    "plt.plot(t, y_hat_lasso, 'g', linewidth=2, label='y_hat_lasso') \n",
    "plt.legend() #设置图例\n",
    "plt.show()"
   ]
  },
  {
   "cell_type": "code",
   "execution_count": 14,
   "metadata": {},
   "outputs": [
    {
     "name": "stdout",
     "output_type": "stream",
     "text": [
      "r2: 0.8276541436150417\n",
      "r2_score: 0.8276541436150417\n",
      "MAE: 4.638494755480021\n",
      "MSE: 46.71582547034623\n",
      "RMSE: 6.834897619595061\n"
     ]
    }
   ],
   "source": [
    "# 拟合优度R2的输出方法一\n",
    "print(\"r2:\",lasso.score(x_test, y_test))\n",
    "# 拟合优度R2的输出方法二\n",
    "print(\"r2_score:\",r2_score(y_test, y_hat_lasso)) \n",
    "# 用scikit-learn计算MAE\n",
    "print(\"MAE:\", metrics.mean_absolute_error(y_test, y_hat_lasso))\n",
    "# 用scikit-learn计算MSE\n",
    "print(\"MSE:\", metrics.mean_squared_error(y_test, y_hat_lasso))\n",
    "# # 用scikit-learn计算RMSE\n",
    "print(\"RMSE:\", np.sqrt(metrics.mean_squared_error(y_test, y_hat_lasso)))"
   ]
  },
  {
   "cell_type": "code",
   "execution_count": null,
   "metadata": {},
   "outputs": [],
   "source": []
  }
 ],
 "metadata": {
  "kernelspec": {
   "display_name": "Python 3",
   "language": "python",
   "name": "python3"
  },
  "language_info": {
   "codemirror_mode": {
    "name": "ipython",
    "version": 3
   },
   "file_extension": ".py",
   "mimetype": "text/x-python",
   "name": "python",
   "nbconvert_exporter": "python",
   "pygments_lexer": "ipython3",
   "version": "3.7.6"
  }
 },
 "nbformat": 4,
 "nbformat_minor": 4
}
