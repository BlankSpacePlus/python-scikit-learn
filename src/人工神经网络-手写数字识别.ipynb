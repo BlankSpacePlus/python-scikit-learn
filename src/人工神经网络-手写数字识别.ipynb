{
 "cells": [
  {
   "cell_type": "code",
   "execution_count": 15,
   "metadata": {},
   "outputs": [],
   "source": [
    "import numpy as np\n",
    "import pandas as pd\n",
    "import matplotlib.pyplot as plt\n",
    "from scipy.io import loadmat\n",
    "from sklearn import model_selection\n",
    "from sklearn.metrics import confusion_matrix\n",
    "from sklearn.metrics import accuracy_score\n",
    "from sklearn.neural_network import MLPClassifier\n",
    "from sklearn.preprocessing import StandardScaler\n",
    "from sklearn.model_selection import train_test_split"
   ]
  },
  {
   "cell_type": "code",
   "execution_count": 2,
   "metadata": {},
   "outputs": [],
   "source": [
    "#正样本\n",
    "x1 = [0,1]\n",
    "y1 = [1,0]\n",
    "#负样本\n",
    "x2 = [0,1]\n",
    "y2 = [0,1]"
   ]
  },
  {
   "cell_type": "code",
   "execution_count": 3,
   "metadata": {},
   "outputs": [
    {
     "data": {
      "image/png": "[encoded data removed]",
      "text/plain": [
       "<Figure size 432x288 with 1 Axes>"
      ]
     },
     "metadata": {
      "needs_background": "light"
     },
     "output_type": "display_data"
    }
   ],
   "source": [
    "plt.figure(figsize = (6,4))\n",
    "plt.scatter(x1,y1,c = 'k', marker = 'x',s = 40 ,label = 'y=1')\n",
    "plt.scatter(x2,y2,c = 'b',marker = 'o',s = 40 ,label = 'y=0')\n",
    "plt.xlim(-0.1,1.5)\n",
    "plt.ylim(-0.1,1.5)\n",
    "plt.legend(loc = 'best')    # 设置 图例所在的位置 使用推荐位置\n",
    "plt.show()"
   ]
  },
  {
   "cell_type": "code",
   "execution_count": 4,
   "metadata": {},
   "outputs": [],
   "source": [
    "def sigmoid(x, deriv=False):\n",
    "    if (deriv == True):\n",
    "        return x * (1 - x)\n",
    "    return 1 / (1 + np.exp(-x))"
   ]
  },
  {
   "cell_type": "code",
   "execution_count": 5,
   "metadata": {},
   "outputs": [],
   "source": [
    "X = np.array([[0, 0],\n",
    "              [0, 1],\n",
    "              [1, 0],\n",
    "              [1, 1]])\n",
    "y = np.array([[0],[1],[1],[0]])"
   ]
  },
  {
   "cell_type": "code",
   "execution_count": 6,
   "metadata": {},
   "outputs": [
    {
     "data": {
      "text/plain": [
       "array([[-0.16595599,  0.44064899, -0.99977125, -0.39533485],\n",
       "       [-0.70648822, -0.81532281, -0.62747958, -0.30887855]])"
      ]
     },
     "execution_count": 6,
     "metadata": {},
     "output_type": "execute_result"
    }
   ],
   "source": [
    "np.random.seed(1)\n",
    "\n",
    "# randomly initialize our weights with mean 0\n",
    "syn0 = 2 * np.random.random((2, 4)) - 1\n",
    "syn1 = 2 * np.random.random((4, 1)) - 1\n",
    "\n",
    "syn0"
   ]
  },
  {
   "cell_type": "code",
   "execution_count": 7,
   "metadata": {},
   "outputs": [
    {
     "name": "stdout",
     "output_type": "stream",
     "text": [
      "Error:0.4995289647766772\n",
      "Error:0.018951601482048636\n",
      "Error:0.012674637262799139\n",
      "Error:0.010027680242236313\n",
      "Error:0.008505922371037249\n",
      "Output After Training:\n",
      "[[0.00886467]\n",
      " [0.99345174]\n",
      " [0.9920439 ]\n",
      " [0.00662409]]\n"
     ]
    }
   ],
   "source": [
    "for j in range(50000):\n",
    "    # Feed forward through layers 0, 1, and 2\n",
    "    l0 = X\n",
    "    l1 = sigmoid(np.dot(l0, syn0))\n",
    "    l2 = sigmoid(np.dot(l1, syn1))\n",
    "    # how much did we miss the target value?\n",
    "    l2_error = y - l2\n",
    "    if (j % 10000) == 0:\n",
    "        print(\"Error:\" + str(np.mean(np.abs(l2_error))))\n",
    "    # in what direction is the target value?\n",
    "    # were we really sure? if so, don't change too much.\n",
    "    l2_delta = l2_error * sigmoid(l2, deriv=True)\n",
    "    # how much did each l1 value contribute to the l2 error (according to the weights)?\n",
    "    l1_error = l2_delta.dot(syn1.T)\n",
    "    # in what direction is the target l1?\n",
    "    # were we really sure? if so, don't change too much.\n",
    "    l1_delta = l1_error * sigmoid(l1, deriv=True)\n",
    "    syn1 += l1.T.dot(l2_delta)\n",
    "    syn0 += l0.T.dot(l1_delta)\n",
    "print(\"Output After Training:\")\n",
    "print(l2)"
   ]
  },
  {
   "cell_type": "code",
   "execution_count": 8,
   "metadata": {},
   "outputs": [
    {
     "data": {
      "text/plain": [
       "{'__header__': b'MATLAB 5.0 MAT-file, Platform: GLNXA64, Created on: Sun Oct 16 13:09:09 2011',\n",
       " '__version__': '1.0',\n",
       " '__globals__': [],\n",
       " 'X': array([[0., 0., 0., ..., 0., 0., 0.],\n",
       "        [0., 0., 0., ..., 0., 0., 0.],\n",
       "        [0., 0., 0., ..., 0., 0., 0.],\n",
       "        ...,\n",
       "        [0., 0., 0., ..., 0., 0., 0.],\n",
       "        [0., 0., 0., ..., 0., 0., 0.],\n",
       "        [0., 0., 0., ..., 0., 0., 0.]]),\n",
       " 'y': array([[10],\n",
       "        [10],\n",
       "        [10],\n",
       "        ...,\n",
       "        [ 9],\n",
       "        [ 9],\n",
       "        [ 9]], dtype=uint8)}"
      ]
     },
     "execution_count": 8,
     "metadata": {},
     "output_type": "execute_result"
    }
   ],
   "source": [
    "data = loadmat('../data/digital.mat')\n",
    "\n",
    "data"
   ]
  },
  {
   "cell_type": "code",
   "execution_count": 9,
   "metadata": {},
   "outputs": [
    {
     "data": {
      "text/plain": [
       "((5000, 400), (5000, 1))"
      ]
     },
     "execution_count": 9,
     "metadata": {},
     "output_type": "execute_result"
    }
   ],
   "source": [
    "# 把X、y转化为数组形式，以便于计算\n",
    "X = data['X']  #提取X变量\n",
    "y = data['y']  #提取y变量\n",
    "\n",
    "X.shape, y.shape  #X、y的形状"
   ]
  },
  {
   "cell_type": "code",
   "execution_count": 10,
   "metadata": {},
   "outputs": [
    {
     "data": {
      "text/plain": [
       "array([ 0.00000000e+00,  0.00000000e+00,  0.00000000e+00,  0.00000000e+00,\n",
       "        0.00000000e+00,  1.28335523e-17, -3.26286765e-04, -1.38651604e-02,\n",
       "        8.15651552e-02,  3.82800381e-01,  8.57849775e-01,  1.00109761e+00,\n",
       "        9.69710638e-01,  9.30928598e-01,  1.00383757e+00,  9.64157356e-01,\n",
       "        4.49256553e-01, -5.60408259e-03, -3.78319036e-03,  0.00000000e+00])"
      ]
     },
     "execution_count": 10,
     "metadata": {},
     "output_type": "execute_result"
    }
   ],
   "source": [
    "X[0,100:120]  #矩阵X第一行第101列至第119列的数据"
   ]
  },
  {
   "cell_type": "code",
   "execution_count": 11,
   "metadata": {},
   "outputs": [],
   "source": [
    "# from sklearn.preprocessing import OneHotEncoder  #导入preproccessing库的OneHotEncoder\n",
    "# encoder = OneHotEncoder(sparse=False)  #One-Hot编码，把每一位变成独立的一个特征值\n",
    "# y_onehot = encoder.fit_transform(y) #对y进行One-Hot编码，转换成相应0-1变量\n",
    "# y_onehot.shape  #y_onehot的形状"
   ]
  },
  {
   "cell_type": "code",
   "execution_count": 12,
   "metadata": {},
   "outputs": [],
   "source": [
    "#y[0], y_onehot[0,:]"
   ]
  },
  {
   "cell_type": "code",
   "execution_count": 13,
   "metadata": {},
   "outputs": [],
   "source": [
    "scaler = StandardScaler() # 标准化转换\n",
    "scaler.fit(X)  # 训练标准化对象\n",
    "X = scaler.transform(X)   # 转换数据集"
   ]
  },
  {
   "cell_type": "code",
   "execution_count": 16,
   "metadata": {},
   "outputs": [
    {
     "data": {
      "text/plain": [
       "((3750, 400), (1250, 400), (3750, 1), (1250, 1))"
      ]
     },
     "execution_count": 16,
     "metadata": {},
     "output_type": "execute_result"
    }
   ],
   "source": [
    "#以25%的数据构建测试样本，剩余作为训练样本\n",
    "X_train,X_test,y_train,y_test=train_test_split(X,y,test_size=0.25,random_state =2)\n",
    "X_train.shape,X_test.shape,y_train.shape,y_test.shape"
   ]
  },
  {
   "cell_type": "code",
   "execution_count": 21,
   "metadata": {},
   "outputs": [
    {
     "data": {
      "text/plain": [
       "MLPClassifier(activation='tanh', alpha=1e-05, batch_size='auto', beta_1=0.9,\n",
       "              beta_2=0.999, early_stopping=False, epsilon=1e-08,\n",
       "              hidden_layer_sizes=(50,), learning_rate='constant',\n",
       "              learning_rate_init=0.001, max_fun=15000, max_iter=2000,\n",
       "              momentum=0.9, n_iter_no_change=10, nesterovs_momentum=True,\n",
       "              power_t=0.5, random_state=None, shuffle=True, solver='adam',\n",
       "              tol=0.0001, validation_fraction=0.1, verbose=False,\n",
       "              warm_start=False)"
      ]
     },
     "execution_count": 21,
     "metadata": {},
     "output_type": "execute_result"
    }
   ],
   "source": [
    "#设置MLP算法\n",
    "mlp = MLPClassifier(solver='adam',activation='tanh', alpha=1e-5, hidden_layer_sizes=(50,),learning_rate_init=0.001, max_iter=2000) \n",
    "mlp.fit(X_train, y_train.ravel())  #对训练集进行学习"
   ]
  },
  {
   "cell_type": "code",
   "execution_count": 22,
   "metadata": {},
   "outputs": [
    {
     "name": "stdout",
     "output_type": "stream",
     "text": [
      "每层网络层系数矩阵维度：\n",
      " [(400, 50), (50, 10)]\n",
      "预测结果： [7 8 3 ... 3 7 9]\n"
     ]
    }
   ],
   "source": [
    "print('每层网络层系数矩阵维度：\\n',[coef.shape for coef in mlp.coefs_])\n",
    "y_pred = mlp.predict(X_test)  #预测测试集输出\n",
    "print('预测结果：',y_pred)"
   ]
  },
  {
   "cell_type": "code",
   "execution_count": 23,
   "metadata": {},
   "outputs": [
    {
     "data": {
      "text/plain": [
       "[array([[ 4.30485706e-08,  6.16105894e-06,  1.87653680e-06, ...,\n",
       "         -2.36157485e-05, -9.68063402e-07, -4.50076122e-07],\n",
       "        [ 1.63093911e-05, -2.69390749e-06, -6.36048345e-07, ...,\n",
       "         -8.35982864e-06,  5.90712060e-06, -5.60633570e-06],\n",
       "        [ 1.41238081e-01, -1.47794916e-02, -4.18954762e-02, ...,\n",
       "          8.03714609e-02, -1.20900895e-02, -4.05654585e-02],\n",
       "        ...,\n",
       "        [-5.38744252e-02,  1.22897559e-02,  2.57752319e-02, ...,\n",
       "          5.24669999e-02,  1.34369525e-01,  6.27650319e-02],\n",
       "        [-6.79249293e-02, -2.24829794e-01, -1.74947555e-01, ...,\n",
       "         -1.15438327e-01, -1.42007515e-01,  4.81945741e-02],\n",
       "        [ 6.45167182e-06, -1.64063095e-06,  1.00686155e-06, ...,\n",
       "         -2.75480386e-07, -2.62033570e-05,  1.71329240e-06]]),\n",
       " array([[ 2.83229278e-01, -6.77606916e-01,  5.15009501e-01,\n",
       "         -1.15098958e-01,  3.48016056e-01, -3.96546739e-02,\n",
       "          1.78425252e-02,  8.31124621e-02, -4.69561725e-01,\n",
       "         -4.42466394e-01],\n",
       "        [ 4.92748293e-01, -4.58628095e-01,  3.38046216e-01,\n",
       "          4.53888705e-01, -4.93679655e-01, -3.80019524e-01,\n",
       "          1.13273067e-01, -4.20555032e-01,  2.69971194e-01,\n",
       "          2.82294919e-03],\n",
       "        [ 1.22244844e-01,  5.89566276e-01,  3.91458536e-01,\n",
       "         -2.82631712e-01, -5.96676355e-01, -1.48374322e-01,\n",
       "         -5.65360567e-01, -4.02471302e-01,  5.04860973e-01,\n",
       "          2.50428102e-01],\n",
       "        [-3.72501248e-01,  6.63406211e-01, -7.97501577e-03,\n",
       "          4.88767291e-01, -2.85078414e-01,  2.39610318e-03,\n",
       "         -3.88038331e-01, -3.79194102e-01,  2.43156864e-01,\n",
       "         -5.78039815e-01],\n",
       "        [-3.67047707e-01,  1.64166388e-01, -2.62287692e-01,\n",
       "          4.58836980e-01, -4.93388256e-01, -8.44823240e-02,\n",
       "          4.58795361e-01,  4.41696667e-01,  5.98235115e-01,\n",
       "         -5.83015920e-01],\n",
       "        [-4.75732206e-01,  6.12576882e-01,  5.59565825e-01,\n",
       "         -4.98042865e-01,  4.02955087e-01,  5.42568165e-02,\n",
       "         -4.29376753e-01, -4.60506839e-01,  3.88073670e-01,\n",
       "         -4.37866461e-01],\n",
       "        [-2.27416875e-01,  9.28866306e-02, -2.34655444e-02,\n",
       "          7.49655376e-01,  4.19046015e-01,  5.01445101e-01,\n",
       "          3.51787530e-02,  4.54260720e-01, -4.81178540e-01,\n",
       "         -7.12847212e-01],\n",
       "        [ 2.82058404e-01,  7.47928773e-02,  4.10159737e-01,\n",
       "          4.00183297e-02, -4.71286171e-01,  1.94487933e-01,\n",
       "          7.34564439e-01, -6.28890842e-01, -7.59995838e-01,\n",
       "          1.49462229e-01],\n",
       "        [ 6.27698424e-01,  2.20086168e-01, -1.22529796e-01,\n",
       "         -4.54012221e-01, -7.53477608e-01,  2.68269373e-01,\n",
       "         -5.36348390e-01,  4.55661585e-01,  3.18790062e-01,\n",
       "          4.24696370e-01],\n",
       "        [-3.93191697e-01, -7.81040583e-01, -1.49767933e-01,\n",
       "         -3.28611154e-02,  4.51921426e-01,  5.92231902e-01,\n",
       "          2.63037057e-01, -5.98763588e-01,  1.69885198e-01,\n",
       "          3.77826471e-01],\n",
       "        [-4.94897170e-01,  4.47840184e-01,  1.80702500e-01,\n",
       "          3.66504926e-01,  3.74730456e-02, -3.95088817e-01,\n",
       "          6.18551462e-01,  5.18573446e-01, -4.37232899e-01,\n",
       "          2.39195750e-03],\n",
       "        [ 6.05522243e-01,  1.59827055e-01,  3.11672609e-01,\n",
       "         -2.28256615e-01, -7.00268239e-01, -4.27197990e-01,\n",
       "          9.99703408e-02,  2.88969803e-01,  6.86218990e-01,\n",
       "         -5.95802657e-01],\n",
       "        [-2.60310356e-01, -3.79814220e-01,  6.83262061e-01,\n",
       "          8.81208570e-02, -5.55981052e-01,  3.09302869e-01,\n",
       "          6.50623780e-02,  5.74618042e-01, -2.53640040e-01,\n",
       "         -4.52997834e-02],\n",
       "        [ 2.79226961e-01, -4.39094099e-01,  4.66113931e-01,\n",
       "          3.46119328e-01,  3.35016510e-01, -6.54206801e-01,\n",
       "          4.79298240e-01, -9.75443167e-02,  2.62706786e-01,\n",
       "         -2.21427268e-01],\n",
       "        [-1.63932649e-01,  6.15282675e-01,  7.27487236e-01,\n",
       "          4.11990350e-01, -2.75678306e-01, -1.38461164e-01,\n",
       "          1.97015620e-01,  6.61266337e-03, -1.88186705e-01,\n",
       "         -6.90022288e-01],\n",
       "        [-4.17386503e-01, -5.10175255e-01,  6.26290909e-01,\n",
       "          3.62642478e-01, -5.07757288e-01, -4.77243912e-01,\n",
       "          5.65868948e-02, -7.36565080e-01,  4.93597984e-01,\n",
       "          1.29552691e-01],\n",
       "        [-3.18462107e-01, -6.96058752e-01, -2.39591899e-01,\n",
       "         -1.08223520e-01,  5.83019255e-01, -2.77240779e-01,\n",
       "          5.08834933e-01, -5.69449096e-01,  4.37216745e-01,\n",
       "          1.48731301e-01],\n",
       "        [-3.66694222e-01,  1.38992489e-01,  3.64803762e-01,\n",
       "         -2.00994789e-01,  2.51244711e-01, -3.34167330e-01,\n",
       "          4.17735056e-01,  5.16165877e-01, -6.43496662e-01,\n",
       "         -2.55363893e-01],\n",
       "        [-4.54313079e-01, -3.62428933e-01, -6.95338441e-02,\n",
       "         -6.45737025e-01,  4.61298055e-01, -6.33287958e-01,\n",
       "          6.58641694e-01,  3.74212098e-01, -2.33157176e-01,\n",
       "          2.10636335e-01],\n",
       "        [ 3.85045970e-02, -2.01539895e-01, -4.43035582e-01,\n",
       "          3.13168671e-01, -2.25646828e-01,  4.36620793e-01,\n",
       "          5.55167780e-01,  5.96030903e-01,  1.36406533e-01,\n",
       "         -5.18650287e-01],\n",
       "        [ 4.09998010e-02, -1.03889971e-01,  5.32465502e-01,\n",
       "          2.31982630e-01, -8.14413320e-01, -2.04564638e-01,\n",
       "         -4.88617071e-01,  7.30461767e-01,  5.86535043e-01,\n",
       "         -4.80297676e-01],\n",
       "        [ 5.65025623e-02, -4.17147289e-02,  2.66274068e-01,\n",
       "         -3.91052728e-01, -3.39826521e-01, -3.29250094e-01,\n",
       "          6.32805278e-01,  4.20645798e-01, -5.19564130e-01,\n",
       "         -2.63416174e-01],\n",
       "        [ 3.82989449e-01, -3.52409300e-01,  4.16851092e-01,\n",
       "          2.30064397e-01,  6.06183647e-01, -4.27626009e-01,\n",
       "          5.08307101e-01,  2.08746648e-02,  1.31255761e-01,\n",
       "         -5.28680874e-01],\n",
       "        [ 5.31190442e-01, -7.25209644e-01,  8.78206523e-01,\n",
       "         -3.48520118e-01,  1.00414464e-01,  1.16973399e-01,\n",
       "          1.80796343e-01,  2.09157624e-01, -9.33880574e-02,\n",
       "         -2.08641400e-01],\n",
       "        [-6.20321923e-01,  4.56617812e-01,  5.81557096e-01,\n",
       "         -5.02610428e-01,  6.26489041e-01, -4.26266948e-01,\n",
       "          2.12663825e-02,  3.26575617e-01, -1.61650318e-01,\n",
       "          5.33627312e-01],\n",
       "        [ 2.04176172e-01,  6.55410312e-01,  8.02093919e-02,\n",
       "         -6.41768868e-01, -4.54552633e-01,  8.43686083e-02,\n",
       "         -3.13057297e-01,  7.52228523e-01, -5.80324746e-01,\n",
       "         -8.50566564e-03],\n",
       "        [-3.74659318e-01,  3.31327585e-01,  6.49207907e-01,\n",
       "          1.91238043e-01, -5.25827287e-01,  3.95351665e-01,\n",
       "          2.79519972e-01, -7.58304921e-02, -1.00361114e-01,\n",
       "         -2.44708225e-01],\n",
       "        [-4.70633272e-01,  1.20878942e-01,  1.48060861e-01,\n",
       "         -6.33094526e-01,  4.96327015e-01, -5.07417652e-01,\n",
       "          1.52091904e-01,  3.40716341e-01,  6.76191571e-01,\n",
       "         -6.85409908e-01],\n",
       "        [ 7.72869105e-02,  9.79710393e-02, -6.63101881e-01,\n",
       "         -5.91950526e-02,  5.36632859e-01, -1.25200085e-02,\n",
       "         -7.13400666e-01,  6.79664892e-01,  6.60800507e-01,\n",
       "         -3.34194380e-01],\n",
       "        [-3.05872596e-01, -7.19614809e-01,  3.18013664e-01,\n",
       "          2.10682218e-01,  3.04421492e-01,  1.84360406e-02,\n",
       "         -6.77128789e-01,  2.10547643e-01,  4.91805252e-02,\n",
       "          5.76604049e-01],\n",
       "        [ 4.81787059e-01, -1.27426887e-01, -4.71197803e-01,\n",
       "          4.28910755e-01,  1.61463732e-01,  5.72327393e-01,\n",
       "          1.84174923e-01, -1.85326681e-01, -7.48508497e-01,\n",
       "         -4.28317210e-01],\n",
       "        [ 3.74004718e-01, -3.29083774e-01,  2.32864287e-01,\n",
       "          5.51624479e-02,  6.53315334e-01, -5.75125434e-01,\n",
       "         -3.13997130e-01,  4.01884888e-01,  3.63945503e-01,\n",
       "         -1.11779719e-01],\n",
       "        [-1.71105995e-01, -5.73853847e-01,  2.96370145e-01,\n",
       "          2.91115463e-01,  2.84573307e-01,  5.38725175e-01,\n",
       "         -2.39584367e-01, -4.60387391e-01,  6.25786491e-01,\n",
       "         -5.02921598e-01],\n",
       "        [ 5.51743763e-04,  3.39764698e-01, -5.24827855e-01,\n",
       "         -6.68430367e-01, -4.93229672e-01,  5.20991300e-01,\n",
       "         -9.40630232e-04,  4.02874205e-01,  6.57744097e-01,\n",
       "          3.88984466e-01],\n",
       "        [ 4.76052620e-01,  5.96682195e-01, -5.69904329e-01,\n",
       "         -4.44332779e-01,  3.61643661e-01, -2.36654434e-01,\n",
       "          4.08276512e-01, -5.97658212e-01, -1.96235706e-01,\n",
       "          2.65305041e-01],\n",
       "        [-4.78507838e-01,  1.19437066e-01, -6.10668098e-01,\n",
       "          4.35718041e-01, -3.37714101e-01, -7.63002721e-01,\n",
       "          6.30514522e-01, -5.08893131e-01,  5.42845687e-01,\n",
       "          4.60821361e-01],\n",
       "        [-3.20685074e-01, -4.87802823e-01, -1.47238387e-01,\n",
       "         -4.62625824e-01, -6.17398475e-01,  3.34926543e-01,\n",
       "          5.60436733e-01,  1.88417381e-01,  3.34573948e-01,\n",
       "          1.76486655e-01],\n",
       "        [ 2.03225159e-01,  2.69497444e-01, -8.39001969e-02,\n",
       "          5.96727525e-01, -4.91140861e-01, -1.79069063e-01,\n",
       "         -6.85472385e-01,  1.84271002e-01, -2.00330279e-01,\n",
       "          1.06156073e-01],\n",
       "        [-5.56791071e-02, -2.89613756e-01,  5.70225533e-01,\n",
       "         -5.66198615e-01, -4.36441383e-01,  2.70353427e-01,\n",
       "          4.84825853e-01, -4.36165893e-01,  5.03313790e-01,\n",
       "         -3.86303332e-01],\n",
       "        [ 5.00509490e-01,  6.89544558e-01, -2.70284369e-01,\n",
       "         -4.26480642e-01,  5.33878321e-01,  2.46471296e-01,\n",
       "         -1.45682834e-01, -4.70645627e-01, -1.00672770e-01,\n",
       "         -7.13086585e-01],\n",
       "        [-3.85486367e-01,  2.13689129e-01,  4.76058459e-01,\n",
       "          2.99779969e-01,  5.16038830e-01,  4.49901144e-01,\n",
       "         -2.26678712e-01,  4.10837388e-01, -6.60573209e-01,\n",
       "         -2.28868484e-01],\n",
       "        [ 3.47303355e-01,  1.67797092e-01,  6.82523356e-01,\n",
       "         -3.53175468e-01,  4.70606319e-01,  2.04059398e-01,\n",
       "         -5.23597681e-01, -4.23972077e-01,  4.02618694e-01,\n",
       "         -3.12364746e-01],\n",
       "        [ 6.20172303e-03, -6.80569089e-02, -5.71128874e-01,\n",
       "         -1.13478154e-01,  6.01435452e-01, -1.51001893e-01,\n",
       "          4.43519030e-01,  5.94997412e-01,  5.47772021e-01,\n",
       "         -2.05821894e-01],\n",
       "        [-3.37352523e-01,  1.46432818e-01,  4.53949421e-01,\n",
       "         -5.59781870e-01,  5.71656047e-04, -6.18826552e-01,\n",
       "         -6.45077827e-01,  6.24527600e-01, -3.89341610e-01,\n",
       "          1.87510441e-01],\n",
       "        [-3.38975546e-01,  6.06133970e-01,  1.02521027e-01,\n",
       "          8.31000551e-02, -5.29109300e-01, -5.33303943e-01,\n",
       "          6.08647578e-01, -4.33797972e-01, -4.45159594e-01,\n",
       "          6.63602043e-01],\n",
       "        [-3.56562858e-01, -5.97517564e-01,  4.71346672e-01,\n",
       "         -7.24048685e-01,  5.95551879e-01,  1.36914341e-01,\n",
       "          3.79689647e-01, -5.77695633e-02,  3.96801977e-01,\n",
       "          6.42497916e-01],\n",
       "        [ 5.43029445e-01,  3.49063179e-01,  6.62622553e-01,\n",
       "         -4.23273757e-01,  3.08366941e-01, -3.92601627e-01,\n",
       "          1.85505480e-01, -6.66617703e-01, -4.71323419e-01,\n",
       "         -8.52391543e-02],\n",
       "        [ 4.35967538e-01, -9.56538679e-02,  2.83810220e-01,\n",
       "         -5.28289066e-01, -7.58146472e-02, -4.40345140e-01,\n",
       "          2.28582113e-01, -5.23950478e-01,  5.47718815e-01,\n",
       "         -4.93366642e-01],\n",
       "        [ 5.25936225e-01, -1.00142213e-01, -4.86774958e-01,\n",
       "          5.22773480e-01, -4.89632765e-01, -3.72319553e-01,\n",
       "          2.29686654e-01,  6.66947626e-01, -1.47433131e-01,\n",
       "         -2.43154073e-01],\n",
       "        [ 1.81290768e-01,  4.96756498e-01,  4.54128265e-01,\n",
       "         -4.76433814e-01, -3.86335437e-01,  4.86473381e-01,\n",
       "          6.28618829e-01, -6.53946002e-01, -4.56324082e-01,\n",
       "          1.91617927e-01]])]"
      ]
     },
     "execution_count": 23,
     "metadata": {},
     "output_type": "execute_result"
    }
   ],
   "source": [
    "mlp.coefs_"
   ]
  },
  {
   "cell_type": "code",
   "execution_count": 24,
   "metadata": {},
   "outputs": [
    {
     "name": "stdout",
     "output_type": "stream",
     "text": [
      "[array([-0.21421309, -0.16383778, -0.00520407, -0.0416013 , -0.01838098,\n",
      "        0.03442993,  0.00557392, -0.08572325,  0.15663054,  0.02403143,\n",
      "        0.22965511, -0.02299538, -0.07717564,  0.22394861, -0.08938573,\n",
      "       -0.13310722, -0.07052722,  0.10827851,  0.16043275,  0.09907562,\n",
      "       -0.03348603,  0.09830713,  0.09531787, -0.19512716,  0.26085051,\n",
      "        0.03169106, -0.06204615,  0.16978875,  0.11815262,  0.20187209,\n",
      "       -0.05218932, -0.01303185, -0.15951674,  0.23800819,  0.00659239,\n",
      "       -0.13078663,  0.04569373,  0.21111541, -0.09253123, -0.23226657,\n",
      "        0.16040385,  0.08573603,  0.19998524,  0.15613985, -0.13961318,\n",
      "        0.22841195, -0.17809736, -0.10704084, -0.05484201, -0.03284973]), array([-0.06243186,  0.26736385,  0.29581988, -0.23202154, -0.05793321,\n",
      "       -0.04112719,  0.15796608, -0.15870651, -0.01745207, -0.39082047])]\n"
     ]
    }
   ],
   "source": [
    "print (mlp.intercepts_)   #列表中第i个元素代表i+1层的偏差向量"
   ]
  },
  {
   "cell_type": "code",
   "execution_count": 25,
   "metadata": {},
   "outputs": [
    {
     "data": {
      "text/plain": [
       "0.9112"
      ]
     },
     "execution_count": 25,
     "metadata": {},
     "output_type": "execute_result"
    }
   ],
   "source": [
    "accuracy_score(y_test, y_pred)  #计算准确率"
   ]
  },
  {
   "cell_type": "code",
   "execution_count": 26,
   "metadata": {},
   "outputs": [
    {
     "data": {
      "text/plain": [
       "array([[120,   1,   2,   0,   0,   0,   0,   2,   1,   0],\n",
       "       [  1, 102,   1,   3,   1,   5,   2,   3,   1,   0],\n",
       "       [  1,   2, 110,   1,   2,   1,   4,   1,   3,   0],\n",
       "       [  3,   1,   0, 126,   0,   0,   0,   0,   5,   0],\n",
       "       [  0,   1,   4,   0, 102,   4,   0,   3,   0,   0],\n",
       "       [  1,   4,   0,   0,   0, 112,   0,   0,   1,   0],\n",
       "       [  2,   1,   0,   3,   0,   0, 111,   1,   4,   1],\n",
       "       [  3,   1,   3,   0,   3,   1,   2, 124,   2,   2],\n",
       "       [  1,   0,   2,   4,   1,   1,   2,   1, 104,   1],\n",
       "       [  0,   0,   0,   1,   3,   0,   0,   0,   0, 128]], dtype=int64)"
      ]
     },
     "execution_count": 26,
     "metadata": {},
     "output_type": "execute_result"
    }
   ],
   "source": [
    "confusion_matrix(y_true=y_test, y_pred=y_pred)  #计算混淆矩阵"
   ]
  },
  {
   "cell_type": "code",
   "execution_count": null,
   "metadata": {},
   "outputs": [],
   "source": []
  }
 ],
 "metadata": {
  "kernelspec": {
   "display_name": "Python 3",
   "language": "python",
   "name": "python3"
  },
  "language_info": {
   "codemirror_mode": {
    "name": "ipython",
    "version": 3
   },
   "file_extension": ".py",
   "mimetype": "text/x-python",
   "name": "python",
   "nbconvert_exporter": "python",
   "pygments_lexer": "ipython3",
   "version": "3.7.6"
  }
 },
 "nbformat": 4,
 "nbformat_minor": 4
}
